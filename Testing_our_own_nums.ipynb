{
 "cells": [
  {
   "cell_type": "markdown",
   "metadata": {},
   "source": [
    "# Testing our own numbers on the Models"
   ]
  },
  {
   "cell_type": "code",
   "execution_count": null,
   "metadata": {
    "ExecuteTime": {
     "end_time": "2023-12-03T18:16:35.236797800Z",
     "start_time": "2023-12-03T18:16:34.808103800Z"
    }
   },
   "outputs": [],
   "source": [
    "import pandas as pd\n",
    "import numpy as np\n",
    "import joblib\n",
    "import cv2\n",
    "import matplotlib.pyplot as plt"
   ]
  },
  {
   "cell_type": "code",
   "execution_count": null,
   "metadata": {
    "ExecuteTime": {
     "end_time": "2023-12-03T18:16:37.138995400Z",
     "start_time": "2023-12-03T18:16:37.136924Z"
    }
   },
   "outputs": [],
   "source": [
    "import os\n",
    "\n",
    "# Generate Image Paths\n",
    "folders = ['Gabes_Nums_Formatted/', 'Philips_Nums_Formatted/']\n",
    "img_paths = []\n",
    "for folder in folders:\n",
    "    for file in os.listdir(folder):\n",
    "        img_paths.append(folder + file)\n",
    "\n",
    "print(len(img_paths))"
   ]
  },
  {
   "cell_type": "code",
   "execution_count": null,
   "metadata": {},
   "outputs": [],
   "source": [
    "import tensorflow as tf\n",
    "\n",
    "def get_standard_data():\n",
    "\t(x_train,y_train),(x_test,y_test)=tf.keras.datasets.mnist.load_data()\n",
    "\n",
    "\t# Normalize Data Set\n",
    "\tx_train = x_train / 255.0\n",
    "\tx_test = x_test / 255.0\n",
    "\n",
    "\t# Use only the training input for normalization.. avoid info leak\n",
    "\tmu = np.mean(x_train)\n",
    "\tstd = np.std(x_train)\n",
    "\n",
    "\tx_train = (x_train - mu) / std\n",
    "\tx_test = (x_test - mu) / std\n",
    "\n",
    "\treturn x_train, y_train, x_test, y_test, mu, std\n",
    "\n",
    "def standardize_input(input, mu, std):\n",
    "    \n",
    "    return (np.array(input)/255 - mu) / std\n",
    "\n",
    "_, _, test_x, test_y, mu, std = get_standard_data()"
   ]
  },
  {
   "cell_type": "code",
   "execution_count": null,
   "metadata": {
    "ExecuteTime": {
     "end_time": "2023-12-03T18:16:38.580433Z",
     "start_time": "2023-12-03T18:16:37.711568Z"
    }
   },
   "outputs": [],
   "source": [
    "num_imgs = len(img_paths)\n",
    "\n",
    "# Function to read images from paths and convert to grayscale\n",
    "def grey_scale(img_paths):\n",
    "    grey_list = []\n",
    "    for path in img_paths:\n",
    "        img = cv2.imread(path)  # Read the image from the file path\n",
    "        if img is not None:  # Check if the image was loaded correctly\n",
    "            grey = cv2.cvtColor(img, cv2.COLOR_BGR2GRAY)\n",
    "            grey_list.append(grey)\n",
    "        else:\n",
    "            print(f\"Failed to load image from {path}\")\n",
    "    return grey_list\n",
    "\n",
    "# Function to resize images\n",
    "def resize(grey_list):\n",
    "    resized_list = []\n",
    "    for img in grey_list:\n",
    "        resized = cv2.resize(img, (28, 28), interpolation=cv2.INTER_AREA)\n",
    "        resized_list.append(resized)\n",
    "    return resized_list\n",
    "\n",
    "# Function to convert images to black and white\n",
    "def black_white(resized_list):\n",
    "    black_white_list = []\n",
    "    for img in resized_list:\n",
    "        _, black_white = cv2.threshold(img, 127, 255, cv2.THRESH_BINARY)\n",
    "        black_white_list.append(black_white)\n",
    "    return black_white_list\n",
    "\n",
    "# Function to invert colors (black to white, white to black)\n",
    "def invert_colors(bw_list):\n",
    "    inverted_list = []\n",
    "    for img in bw_list:\n",
    "        inverted = 255 - img  # Invert colors\n",
    "        inverted_list.append(inverted)\n",
    "    return inverted_list\n",
    "\n",
    "# Applying the functions\n",
    "grey_list = grey_scale(img_paths)\n",
    "resized_list = resize(grey_list)\n",
    "black_white_list = black_white(resized_list)\n",
    "# inverted_list = invert_colors(black_white_list)\n",
    "inverted_list = standardize_input(black_white_list, mu, std)\n",
    "\n",
    "# Displaying the images\n",
    "cols = int(np.sqrt(num_imgs))\n",
    "rows = int(np.ceil(num_imgs / cols))\n",
    "plt.figure(figsize=(cols, rows))\n",
    "for i, img in enumerate(inverted_list, 1):\n",
    "    plt.subplot(rows, cols, i)\n",
    "    plt.imshow(img, cmap='gray')\n",
    "    plt.title(f'Image {i}')\n",
    "    plt.axis('off')\n",
    "plt.tight_layout()\n",
    "plt.show()"
   ]
  },
  {
   "cell_type": "code",
   "execution_count": null,
   "metadata": {},
   "outputs": [],
   "source": [
    "# print(inverted_list)"
   ]
  },
  {
   "cell_type": "code",
   "execution_count": null,
   "metadata": {
    "ExecuteTime": {
     "end_time": "2023-12-03T18:16:41.356796100Z",
     "start_time": "2023-12-03T18:16:41.350011400Z"
    }
   },
   "outputs": [],
   "source": [
    "flattened_images = [img.flatten() for img in inverted_list]\n",
    "\n",
    "# Printing the first few elements of each flattened image to check\n",
    "for i, img in enumerate(flattened_images, 1):\n",
    "    print(f\"Image {i}: {img[:10]}...\")"
   ]
  },
  {
   "cell_type": "code",
   "execution_count": null,
   "metadata": {
    "ExecuteTime": {
     "end_time": "2023-12-03T18:19:41.653570900Z",
     "start_time": "2023-12-03T18:19:41.288187200Z"
    }
   },
   "outputs": [],
   "source": [
    "# Test Neural Networks\n",
    "model_folders = [\"MLP/\", \"CNN/\"]\n",
    "model_dirs = []\n",
    "for folder in model_folders:\n",
    "    dir = \"Models/\" + folder\n",
    "    for file in os.listdir(dir):\n",
    "        model_dirs.append(dir + file)\n",
    "\n",
    "test_images = np.array(inverted_list)\n",
    "print(test_images.shape)\n",
    "\n",
    "\n",
    "all_preds = []\n",
    "labels = [0, 1, 2, 3, 4, 5, 6, 7, 8, 9] * 2\n",
    "for model_dir in model_dirs:\n",
    "    print(f\"Importing and Testing {model_dir}\")\n",
    "    model = tf.keras.models.load_model(model_dir)\n",
    "\n",
    "    predictions = model.predict(test_images)\n",
    "    predictions = np.argmax(predictions, axis=1)\n",
    "    all_preds.append(predictions)"
   ]
  },
  {
   "cell_type": "code",
   "execution_count": null,
   "metadata": {},
   "outputs": [],
   "source": [
    "import seaborn as sns\n",
    "\n",
    "model_dir = model_dirs[-1]\n",
    "model = tf.keras.models.load_model(model_dir)\n",
    "print(f\"Importing and Testing {model_dir}\")\n",
    "preds = model.predict(test_x)\n",
    "preds = np.argmax(preds, axis=1)\n",
    "                \n",
    "print(preds.shape)\n",
    "print(test_y.shape)\n",
    "print(preds[-10:])\n",
    "print(test_y[-10:])\n",
    "\n",
    "sns.heatmap(test_x[-1], annot=False, cmap='gray', fmt='.2f', cbar=True)\n",
    "plt.savefig(\"Figures/DigitAnalysis/MNIST_6.png\")\n",
    "plt.show()\n",
    "\n",
    "sns.heatmap(test_images[6], annot=False, cmap='gray', fmt='.2f', cbar=True)\n",
    "plt.savefig(\"Figures/DigitAnalysis/Gabe_6.png\")\n",
    "plt.show()"
   ]
  },
  {
   "cell_type": "code",
   "execution_count": null,
   "metadata": {},
   "outputs": [],
   "source": [
    "# For each neural network\n",
    "# retrieve accuracy and show mispredictions!\n",
    "\n",
    "for pred, model_dir in zip(all_preds, model_dirs):\n",
    "    total = len(pred)\n",
    "    correct = sum(p == t for p,t in zip(pred, labels))\n",
    "    accuracy = correct / total\n",
    "\n",
    "    print(f\"Accuracy of {model_dir}: {accuracy * 100:.2f}%\")\n",
    "\n",
    "    # For each model, print the pictures they mispredict!\n",
    "    cols = int(np.sqrt(correct + 1))\n",
    "    rows = int(np.ceil(correct + 1 / cols))\n",
    "    savename = (model_dir.split(\".\")[0]).split(\"/\")[-1]\n",
    "    plt.figure(figsize=(cols*3, rows*3))\n",
    "    i = 1\n",
    "    for p, truth, img in zip(pred, labels, test_images):\n",
    "        if p != truth:\n",
    "            ax = plt.subplot(rows, cols, i)\n",
    "            ax.imshow(img, cmap='gray')\n",
    "            ax.axis(\"off\")\n",
    "            ax.set_title(f\"{truth} predicted as {p} by {savename}\", fontsize=10)\n",
    "            i += 1\n",
    "    plt.savefig(f\"Figures/DigitAnalysis/{savename}_analysis.png\")\n",
    "    plt.show()\n",
    "    \n"
   ]
  },
  {
   "cell_type": "code",
   "execution_count": null,
   "metadata": {},
   "outputs": [],
   "source": [
    "'''\n",
    "# Paths to your saved models\n",
    "SVM_path = r'Models/Gabe/mnist_svm_by_Gabe.joblib'\n",
    "KNN_path = r'Models/Gabe/knn_mnist_by_gabe.joblib'\n",
    "\n",
    "# Loading the models\n",
    "SVM_model = joblib.load(SVM_path)\n",
    "KNN_model = joblib.load(KNN_path)\n",
    "\n",
    "# Predicting the numbers using the models for the first 6 images\n",
    "svm_predictions = SVM_model.predict(flattened_images[:6])\n",
    "knn_predictions = KNN_model.predict(flattened_images[:6])\n",
    "\n",
    "# Printing the predictions\n",
    "for i in range(6):\n",
    "    print(f\"For image {i+1}, the KNN predicted {knn_predictions[i]} and the SVM predicted {svm_predictions[i]}\")\n",
    "'''"
   ]
  },
  {
   "cell_type": "code",
   "execution_count": null,
   "metadata": {
    "ExecuteTime": {
     "end_time": "2023-12-03T18:56:24.310633500Z",
     "start_time": "2023-12-03T18:56:24.303026300Z"
    },
    "vscode": {
     "languageId": "html"
    }
   },
   "outputs": [],
   "source": [
    "%%html\n",
    "<canvas id=\"canvas\" width=\"280\" height=\"280\" style=\"border:1px solid #000000; background-color: black;\"></canvas>\n",
    "<button id=\"saveButton\">Save Image</button>\n",
    "<p id=\"imageDataText\" style=\"word-wrap: break-word;\"></p>\n",
    "<script>\n",
    "    var canvas = document.getElementById('canvas');\n",
    "    var ctx = canvas.getContext('2d');\n",
    "    var mousePressed = false;\n",
    "    var lastX, lastY;\n",
    "\n",
    "    function draw(x, y, isDrawing) {\n",
    "        if (isDrawing) {\n",
    "            ctx.beginPath();\n",
    "            ctx.strokeStyle = 'white';\n",
    "            ctx.lineWidth = 20;\n",
    "            ctx.lineJoin = 'round';\n",
    "            ctx.moveTo(lastX, lastY);\n",
    "            ctx.lineTo(x, y);\n",
    "            ctx.closePath();\n",
    "            ctx.stroke();\n",
    "        }\n",
    "        lastX = x;\n",
    "        lastY = y;\n",
    "    }\n",
    "\n",
    "    canvas.addEventListener('mousedown', function(e) {\n",
    "        mousePressed = true;\n",
    "        draw(e.offsetX, e.offsetY, false);\n",
    "    });\n",
    "\n",
    "    canvas.addEventListener('mousemove', function(e) {\n",
    "        if (mousePressed) {\n",
    "            draw(e.offsetX, e.offsetY, true);\n",
    "        }\n",
    "    });\n",
    "\n",
    "    canvas.addEventListener('mouseup', function() {\n",
    "        mousePressed = false;\n",
    "    });\n",
    "\n",
    "    canvas.addEventListener('mouseleave', function() {\n",
    "        mousePressed = false;\n",
    "    });\n",
    "\n",
    "    document.getElementById('saveButton').addEventListener('click', function() {\n",
    "        var image_data_url = canvas.toDataURL('image/png');\n",
    "        document.getElementById('imageDataText').innerText = image_data_url;\n",
    "    });\n",
    "</script>"
   ]
  },
  {
   "cell_type": "code",
   "execution_count": null,
   "metadata": {
    "ExecuteTime": {
     "end_time": "2023-12-03T18:52:16.282077800Z",
     "start_time": "2023-12-03T18:52:16.069283300Z"
    },
    "collapsed": false,
    "jupyter": {
     "outputs_hidden": false
    }
   },
   "outputs": [],
   "source": [
    "import base64\n",
    "import io\n",
    "from PIL import Image\n",
    "import numpy as np\n",
    "import joblib\n",
    "\n",
    "# Manually paste the copied data URL string here (it will be very long)\n",
    "image_data_url = 'data:image/png;base64,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'\n",
    "\n",
    "\n",
    "# Process the saved image data\n",
    "# Remove the prefix 'data:image/png;base64,' before decoding\n",
    "image_data = base64.b64decode(image_data_url.split(',')[1])\n",
    "image = Image.open(io.BytesIO(image_data))\n",
    "image = image.resize((28, 28)).convert('L')\n",
    "image = np.invert(np.array(image))\n",
    "image = image / 255.0\n",
    "flattened_image = image.flatten().reshape(1, -1)\n",
    "\n",
    "# Load your models\n",
    "SVM_path = 'mnist_svm_by_Gabe.joblib'\n",
    "KNN_path = 'knn_mnist_by_gabe.joblib'\n",
    "SVM_model = joblib.load(SVM_path)\n",
    "KNN_model = joblib.load(KNN_path)\n",
    "\n",
    "# Predict using the models\n",
    "svm_prediction = SVM_model.predict(flattened_image)\n",
    "knn_prediction = KNN_model.predict(flattened_image)\n",
    "\n",
    "# Print the predictions\n",
    "print(f\"SVM Prediction: {svm_prediction[0]}\")\n",
    "print(f\"KNN Prediction: {knn_prediction[0]}\")"
   ]
  },
  {
   "cell_type": "code",
   "execution_count": null,
   "metadata": {},
   "outputs": [],
   "source": []
  },
  {
   "cell_type": "code",
   "execution_count": null,
   "metadata": {},
   "outputs": [],
   "source": []
  }
 ],
 "metadata": {
  "kernelspec": {
   "display_name": "Python 3 (ipykernel)",
   "language": "python",
   "name": "python3"
  },
  "language_info": {
   "codemirror_mode": {
    "name": "ipython",
    "version": 3
   },
   "file_extension": ".py",
   "mimetype": "text/x-python",
   "name": "python",
   "nbconvert_exporter": "python",
   "pygments_lexer": "ipython3",
   "version": "3.11.1"
  }
 },
 "nbformat": 4,
 "nbformat_minor": 4
}
