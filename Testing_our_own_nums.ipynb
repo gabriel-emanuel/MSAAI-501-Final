{
 "cells": [
  {
   "cell_type": "markdown",
   "metadata": {},
   "source": [
    "# Testing our own numbers on the Models"
   ]
  },
  {
   "cell_type": "code",
   "execution_count": 1,
   "metadata": {
    "ExecuteTime": {
     "end_time": "2023-12-03T18:16:35.236797800Z",
     "start_time": "2023-12-03T18:16:34.808103800Z"
    }
   },
   "outputs": [],
   "source": [
    "import pandas as pd\n",
    "import numpy as np\n",
    "import joblib\n",
    "import cv2\n",
    "import matplotlib.pyplot as plt"
   ]
  },
  {
   "cell_type": "code",
   "execution_count": 2,
   "metadata": {
    "ExecuteTime": {
     "end_time": "2023-12-03T18:16:37.138995400Z",
     "start_time": "2023-12-03T18:16:37.136924Z"
    }
   },
   "outputs": [],
   "source": [
    "img1 = (r'C:\\Users\\user\\Desktop\\School\\MSAAI_501\\Group_Projects\\Gabes_Numbers\\1.JPG') # gabe\n",
    "img2 = (r'C:\\Users\\user\\Desktop\\School\\MSAAI_501\\Group_Projects\\Gabes_Numbers\\6.JPG') # gabe\n",
    "img3 = (r'C:\\Users\\user\\Desktop\\School\\MSAAI_501\\Group_Projects\\Gabes_Numbers\\2.JPG') # gabe\n",
    "img4 = (r'C:\\Users\\user\\Desktop\\School\\MSAAI_501\\Group_Projects\\Philips_Numbers\\5.png') # philip \n",
    "img5 = (r'C:\\Users\\user\\Desktop\\School\\MSAAI_501\\Group_Projects\\Philips_Numbers\\7.png') # philip\n",
    "img6 = (r'C:\\Users\\user\\Desktop\\School\\MSAAI_501\\Group_Projects\\Philips_Numbers\\9.png') # philip\n",
    "img7 = (r'C:\\Users\\user\\Desktop\\School\\MSAAI_501\\Group_Projects\\Sydneys_Numbers_pngs\\2.jpg') # Syd\n",
    "img8 = (r'C:\\Users\\user\\Desktop\\School\\MSAAI_501\\Group_Projects\\Sydneys_Numbers_pngs\\0.jpg') # Syd\n",
    "img9 = (r'C:\\Users\\user\\Desktop\\School\\MSAAI_501\\Group_Projects\\Sydneys_Numbers_pngs\\8.jpg') # Syd"
   ]
  },
  {
   "cell_type": "code",
   "execution_count": 3,
   "metadata": {
    "ExecuteTime": {
     "end_time": "2023-12-03T18:16:38.580433Z",
     "start_time": "2023-12-03T18:16:37.711568Z"
    }
   },
   "outputs": [
    {
     "data": {
      "image/png": "[encoded data removed]",
      "text/plain": [
       "<Figure size 1000x1000 with 9 Axes>"
      ]
     },
     "metadata": {},
     "output_type": "display_data"
    }
   ],
   "source": [
    "# List of image file paths\n",
    "img_paths = [img1, img2, img3, img4, img5, img6, img7, img8, img9]\n",
    "\n",
    "# Function to read images from paths and convert to grayscale\n",
    "def grey_scale(img_paths):\n",
    "    grey_list = []\n",
    "    for path in img_paths:\n",
    "        img = cv2.imread(path)  # Read the image from the file path\n",
    "        if img is not None:  # Check if the image was loaded correctly\n",
    "            grey = cv2.cvtColor(img, cv2.COLOR_BGR2GRAY)\n",
    "            grey_list.append(grey)\n",
    "        else:\n",
    "            print(f\"Failed to load image from {path}\")\n",
    "    return grey_list\n",
    "\n",
    "# Function to resize images\n",
    "def resize(grey_list):\n",
    "    resized_list = []\n",
    "    for img in grey_list:\n",
    "        resized = cv2.resize(img, (28, 28), interpolation=cv2.INTER_AREA)\n",
    "        resized_list.append(resized)\n",
    "    return resized_list\n",
    "\n",
    "# Function to convert images to black and white\n",
    "def black_white(resized_list):\n",
    "    black_white_list = []\n",
    "    for img in resized_list:\n",
    "        _, black_white = cv2.threshold(img, 127, 255, cv2.THRESH_BINARY)\n",
    "        black_white_list.append(black_white)\n",
    "    return black_white_list\n",
    "\n",
    "# Function to invert colors (black to white, white to black)\n",
    "def invert_colors(bw_list):\n",
    "    inverted_list = []\n",
    "    for img in bw_list:\n",
    "        inverted = 255 - img  # Invert colors\n",
    "        inverted_list.append(inverted)\n",
    "    return inverted_list\n",
    "\n",
    "# Applying the functions\n",
    "grey_list = grey_scale(img_paths)\n",
    "resized_list = resize(grey_list)\n",
    "black_white_list = black_white(resized_list)\n",
    "inverted_list = invert_colors(black_white_list)\n",
    "\n",
    "# Displaying the images\n",
    "plt.figure(figsize=(10, 10))\n",
    "for i, img in enumerate(inverted_list, 1):\n",
    "    plt.subplot(3, 3, i)\n",
    "    plt.imshow(img, cmap='gray')\n",
    "    plt.title(f'Image {i}')\n",
    "    plt.axis('off')\n",
    "plt.tight_layout()\n",
    "plt.show()"
   ]
  },
  {
   "cell_type": "code",
   "execution_count": 4,
   "metadata": {
    "ExecuteTime": {
     "end_time": "2023-12-03T18:16:41.356796100Z",
     "start_time": "2023-12-03T18:16:41.350011400Z"
    }
   },
   "outputs": [
    {
     "name": "stdout",
     "output_type": "stream",
     "text": [
      "Image 1: [0 0 0 0 0 0 0 0 0 0]...\n",
      "Image 2: [0 0 0 0 0 0 0 0 0 0]...\n",
      "Image 3: [0 0 0 0 0 0 0 0 0 0]...\n",
      "Image 4: [0 0 0 0 0 0 0 0 0 0]...\n",
      "Image 5: [0 0 0 0 0 0 0 0 0 0]...\n",
      "Image 6: [0 0 0 0 0 0 0 0 0 0]...\n",
      "Image 7: [0 0 0 0 0 0 0 0 0 0]...\n",
      "Image 8: [255 255 255 255 255 255 255 255 255 255]...\n",
      "Image 9: [0 0 0 0 0 0 0 0 0 0]...\n"
     ]
    }
   ],
   "source": [
    "flattened_images = [img.flatten() for img in inverted_list]\n",
    "\n",
    "# Printing the first few elements of each flattened image to check\n",
    "for i, img in enumerate(flattened_images, 1):\n",
    "    print(f\"Image {i}: {img[:10]}...\")"
   ]
  },
  {
   "cell_type": "code",
   "execution_count": 5,
   "metadata": {
    "ExecuteTime": {
     "end_time": "2023-12-03T18:19:41.653570900Z",
     "start_time": "2023-12-03T18:19:41.288187200Z"
    }
   },
   "outputs": [
    {
     "name": "stderr",
     "output_type": "stream",
     "text": [
      "c:\\Users\\user\\anaconda3\\Lib\\site-packages\\sklearn\\base.py:318: UserWarning: Trying to unpickle estimator SVC from version 1.3.0 when using version 1.2.2. This might lead to breaking code or invalid results. Use at your own risk. For more info please refer to:\n",
      "https://scikit-learn.org/stable/model_persistence.html#security-maintainability-limitations\n",
      "  warnings.warn(\n",
      "c:\\Users\\user\\anaconda3\\Lib\\site-packages\\sklearn\\base.py:318: UserWarning: Trying to unpickle estimator KNeighborsClassifier from version 1.3.0 when using version 1.2.2. This might lead to breaking code or invalid results. Use at your own risk. For more info please refer to:\n",
      "https://scikit-learn.org/stable/model_persistence.html#security-maintainability-limitations\n",
      "  warnings.warn(\n"
     ]
    },
    {
     "name": "stdout",
     "output_type": "stream",
     "text": [
      "For image 1, the KNN predicted 4 and the SVM predicted 7\n",
      "For image 2, the KNN predicted 6 and the SVM predicted 7\n",
      "For image 3, the KNN predicted 4 and the SVM predicted 7\n",
      "For image 4, the KNN predicted 1 and the SVM predicted 7\n",
      "For image 5, the KNN predicted 8 and the SVM predicted 7\n",
      "For image 6, the KNN predicted 4 and the SVM predicted 7\n"
     ]
    }
   ],
   "source": [
    "# Paths to your saved models\n",
    "SVM_path = r'C:\\Users\\user\\Desktop\\School\\MSAAI_501\\Group_Projects\\mnist_svm_by_Gabe.joblib'\n",
    "KNN_path = r'C:\\Users\\user\\Desktop\\School\\MSAAI_501\\Group_Projects\\knn_mnist_by_gabe.joblib'\n",
    "\n",
    "# Loading the models\n",
    "SVM_model = joblib.load(SVM_path)\n",
    "KNN_model = joblib.load(KNN_path)\n",
    "\n",
    "# Predicting the numbers using the models for the first 6 images\n",
    "svm_predictions = SVM_model.predict(flattened_images[:6])\n",
    "knn_predictions = KNN_model.predict(flattened_images[:6])\n",
    "\n",
    "# Printing the predictions\n",
    "for i in range(6):\n",
    "    print(f\"For image {i+1}, the KNN predicted {knn_predictions[i]} and the SVM predicted {svm_predictions[i]}\")\n",
    "\n"
   ]
  },
  {
   "cell_type": "code",
   "execution_count": 10,
   "metadata": {
    "ExecuteTime": {
     "end_time": "2023-12-03T18:56:24.310633500Z",
     "start_time": "2023-12-03T18:56:24.303026300Z"
    },
    "vscode": {
     "languageId": "html"
    }
   },
   "outputs": [
    {
     "data": {
      "text/html": [
       "<canvas id=\"canvas\" width=\"280\" height=\"280\" style=\"border:1px solid #000000; background-color: black;\"></canvas>\n",
       "<button id=\"saveButton\">Save Image</button>\n",
       "<p id=\"imageDataText\" style=\"word-wrap: break-word;\"></p>\n",
       "<script>\n",
       "    var canvas = document.getElementById('canvas');\n",
       "    var ctx = canvas.getContext('2d');\n",
       "    var mousePressed = false;\n",
       "    var lastX, lastY;\n",
       "\n",
       "    function draw(x, y, isDrawing) {\n",
       "        if (isDrawing) {\n",
       "            ctx.beginPath();\n",
       "            ctx.strokeStyle = 'white';\n",
       "            ctx.lineWidth = 20;\n",
       "            ctx.lineJoin = 'round';\n",
       "            ctx.moveTo(lastX, lastY);\n",
       "            ctx.lineTo(x, y);\n",
       "            ctx.closePath();\n",
       "            ctx.stroke();\n",
       "        }\n",
       "        lastX = x;\n",
       "        lastY = y;\n",
       "    }\n",
       "\n",
       "    canvas.addEventListener('mousedown', function(e) {\n",
       "        mousePressed = true;\n",
       "        draw(e.offsetX, e.offsetY, false);\n",
       "    });\n",
       "\n",
       "    canvas.addEventListener('mousemove', function(e) {\n",
       "        if (mousePressed) {\n",
       "            draw(e.offsetX, e.offsetY, true);\n",
       "        }\n",
       "    });\n",
       "\n",
       "    canvas.addEventListener('mouseup', function() {\n",
       "        mousePressed = false;\n",
       "    });\n",
       "\n",
       "    canvas.addEventListener('mouseleave', function() {\n",
       "        mousePressed = false;\n",
       "    });\n",
       "\n",
       "    document.getElementById('saveButton').addEventListener('click', function() {\n",
       "        var image_data_url = canvas.toDataURL('image/png');\n",
       "        document.getElementById('imageDataText').innerText = image_data_url;\n",
       "    });\n",
       "</script>\n"
      ],
      "text/plain": [
       "<IPython.core.display.HTML object>"
      ]
     },
     "metadata": {},
     "output_type": "display_data"
    }
   ],
   "source": [
    "%%html\n",
    "<canvas id=\"canvas\" width=\"280\" height=\"280\" style=\"border:1px solid #000000; background-color: black;\"></canvas>\n",
    "<button id=\"saveButton\">Save Image</button>\n",
    "<p id=\"imageDataText\" style=\"word-wrap: break-word;\"></p>\n",
    "<script>\n",
    "    var canvas = document.getElementById('canvas');\n",
    "    var ctx = canvas.getContext('2d');\n",
    "    var mousePressed = false;\n",
    "    var lastX, lastY;\n",
    "\n",
    "    function draw(x, y, isDrawing) {\n",
    "        if (isDrawing) {\n",
    "            ctx.beginPath();\n",
    "            ctx.strokeStyle = 'white';\n",
    "            ctx.lineWidth = 20;\n",
    "            ctx.lineJoin = 'round';\n",
    "            ctx.moveTo(lastX, lastY);\n",
    "            ctx.lineTo(x, y);\n",
    "            ctx.closePath();\n",
    "            ctx.stroke();\n",
    "        }\n",
    "        lastX = x;\n",
    "        lastY = y;\n",
    "    }\n",
    "\n",
    "    canvas.addEventListener('mousedown', function(e) {\n",
    "        mousePressed = true;\n",
    "        draw(e.offsetX, e.offsetY, false);\n",
    "    });\n",
    "\n",
    "    canvas.addEventListener('mousemove', function(e) {\n",
    "        if (mousePressed) {\n",
    "            draw(e.offsetX, e.offsetY, true);\n",
    "        }\n",
    "    });\n",
    "\n",
    "    canvas.addEventListener('mouseup', function() {\n",
    "        mousePressed = false;\n",
    "    });\n",
    "\n",
    "    canvas.addEventListener('mouseleave', function() {\n",
    "        mousePressed = false;\n",
    "    });\n",
    "\n",
    "    document.getElementById('saveButton').addEventListener('click', function() {\n",
    "        var image_data_url = canvas.toDataURL('image/png');\n",
    "        document.getElementById('imageDataText').innerText = image_data_url;\n",
    "    });\n",
    "</script>"
   ]
  },
  {
   "cell_type": "code",
   "execution_count": 11,
   "metadata": {
    "ExecuteTime": {
     "end_time": "2023-12-03T18:52:16.282077800Z",
     "start_time": "2023-12-03T18:52:16.069283300Z"
    },
    "collapsed": false
   },
   "outputs": [
    {
     "name": "stderr",
     "output_type": "stream",
     "text": [
      "c:\\Users\\user\\anaconda3\\Lib\\site-packages\\sklearn\\base.py:318: UserWarning: Trying to unpickle estimator SVC from version 1.3.0 when using version 1.2.2. This might lead to breaking code or invalid results. Use at your own risk. For more info please refer to:\n",
      "https://scikit-learn.org/stable/model_persistence.html#security-maintainability-limitations\n",
      "  warnings.warn(\n",
      "c:\\Users\\user\\anaconda3\\Lib\\site-packages\\sklearn\\base.py:318: UserWarning: Trying to unpickle estimator KNeighborsClassifier from version 1.3.0 when using version 1.2.2. This might lead to breaking code or invalid results. Use at your own risk. For more info please refer to:\n",
      "https://scikit-learn.org/stable/model_persistence.html#security-maintainability-limitations\n",
      "  warnings.warn(\n"
     ]
    },
    {
     "name": "stdout",
     "output_type": "stream",
     "text": [
      "SVM Prediction: 8\n",
      "KNN Prediction: 8\n"
     ]
    }
   ],
   "source": [
    "import base64\n",
    "import io\n",
    "from PIL import Image\n",
    "import numpy as np\n",
    "import joblib\n",
    "\n",
    "# Manually paste the copied data URL string here (it will be very long)\n",
    "image_data_url = 'data:image/png;base64,iVBORw0KGgoAAAANSUhEUgAAARgAAAEYCAYAAACHjumMAAAAAXNSR0IArs4c6QAAEY5JREFUeF7tnUuMpGUVht/jACJGuQRBxAEUTCAuVCLKQgNEIurK20ZURGNQoqx0BFxJTGRgdGFiIuAdI668rAgiJOBCZfAWF4B3BURRUDMGRJjhmF9rAOkeurrqfF/VW//TSa+m/vOd/znvPHNqqro6xBcEIACBRgSiUV3KQgACEBCCIQQQgEAzAgimGVoKQwACCIYMQAACzQggmGZoKQwBCCAYMgABCDQjgGCaoaUwBCCAYMgABCDQjACCaYaWwhCAAIIhAxCAQDMCCKYZWgpDAAIIhgxAAALNCCCYZmgpDAEIIBgyAAEINCOAYJqhpTAEIIBgyAAEINCMAIJphpbCEIAAgiEDEIBAMwIIphlaCkMAAgiGDEAAAs0IIJhmaCkMAQggGDIAAQg0I4BgmqGlcA8CmXmppFMknSTpyMmZ90q6XdKtEXFxjz44Y30CCIZkWBLIzEEq10o6fIMbuE/SGyLiVssbNW8awZgPcIztZ+aVks7b5L1fFRHv2+Q1PHxOAghmToBc3pdAZn5Y0o4ZT90WEZ+c8Voum4EAgpkBGpcshkBmHi/p13OefkJE/GbOGlw+JQEEMyUoHrZ4Apn5O0nHzdnJ7yPiBXPW4PIpCSCYKUHxsMUSyMzLJW0r6mJHRHykqBZlnoIAgiEeFgQy825JRxc1+8eIeH5RLcogGDLgTiAzH5a0f9F9PBIRBxTVosxYBZOZ75b0cklbJb1w8v1zSddJ+sHwHRG7SMjyE8jMrOwyItjeK4Huo9ZKQs7MQSoXSXrLBgx/JekDEfHdDqw5Yg4CCGYOeAu8dOUEk5kfk3ShpAOn5Lpb0vsi4otTPp6HLYAAglkA9IIjV0owmflOSVfPyOWSiBjkxNcSEkAwSziUKVpaGcFk5hmShqc6W6a47/Ue8pCkV0fEj2a8nssaEqgWjKSzI+LrDVumtKSVEExmHiVpp6R5X3r8RkS8lWQsH4EGguENdx3GvCqCuUxS1Run3hMRX+rAniM2QaCBYIbTL4iIz2yiDR66SQL2gsnMQyTdI+kZm7z3fT38iog4v6gWZYoINBLMLRFxalGLlFmHwCoIZvvkVaOqAV8XEa+vKkadGgKNBPPPiHh2TYdUWY/AKgjml5JeVDjeOyJi+HQ0vpaIQCPB7ImI/ZboNleulVUQTOVbyIcBPxQRVU+3Vi4wi7qhRoIR7+htO9FVEEzpW8gl8by8beZmqo5gZsK28IsQzNoR8Ia7hcdybQMIZgmHMkVLCGYtpNdFxHemYMdDOhJAMB1hFx6FYNbCPJifsC5MWFEpBFMEsnMZBPMk4PynX+cETnkcgpkS1JI9DMEgmCWL5PrtIBiLMa1pEsEgGIvkIhiLMSGYjcbEU6SNCC3mzxHMYrjPeyobDBvMvBnqcn0rwUg6NCL+0eUmRngIgkEwFrFvKJjLImL4eFW+GhBAMAimQazqSzYUzM6IeGV9x1QcCCAYBGPxN6GhYHZFxMEWEAybRDAIxiK2DQWTEfE0CwiGTSIYBGMR24aC4SeqGyYAwSCYhvGqK41g6lj2rIRgEEzPvM18FoKZGd1CL0QwCGahAZz2cAQzLanlehyCQTDLlch9dINgLMa0pkkEg2AskotgLMaEYDYaEz+LtBGhxfw5glkM93lPZYNhg5k3Q12ubykYSUdExF+73MjIDkEwCMYi8o0Fc1ZEXG8BwqxJBINgLCLbWDBfjYhzLECYNYlgEIxFZBsL5raIeLEFCLMmEQyCsYhsY8HcHxGHW4AwaxLBIBiLyDYWzMMR8XQLEGZNIhgEYxHZxoLhBx4bpQDBIJhG0aoti2BqefaqhmAQTK+szXUOgpkL38IuRjAIZmHh28zBCGYztJbnsQgGwSxPGp+iEwRjMaY1TSIYBGORXARjMSYEs9GY+GHHjQgt5s8RzGK4z3sqGwwbzLwZ6nI9gumCufwQBINgykPVoiCCaUG1fU0Eg2Dap6zgBARTAHEBJRAMgllA7DZ/JILZPLNluALBIJhlyOGGPSCYDREt5QMQDIJZymA+uSkEYzGmNU0iGARjkVwEYzEmBLPRmHgfzEaEFvPnCGYx3Oc9lQ2GDWbeDHW5vrVgJJ0aEbd0uZkRHYJgEIxF3DsI5s6IONYChlGTCAbBWMS1g2AGDjsi4iMWQEyaRDAIxiKqnQRzR0ScZAHEpEkEg2AsotpJMP+OiAMtgJg0iWAQjEVUOwmGz+YtTgOCQTDFkWpTDsG04dq6KoJBMK0zVlI/M3dL2lJS7CmK8D6oWsIIBsHUJqpRtcz8s6QjG5V/rCyCqSWMYBBMbaIaVcvMnZJOaVQewTQCi2AQTKNo1ZbNzM9Ken9t1bXV2GBqCSMYBFObqEbVMvMoSfc0Ks8G0wgsgkEwjaJVX7bHK0lsMLVzQzAIpjZRDashmIZwG5VGMAimUbTqyyKYeqatKyIYBNM6Y2X1M/MRSfuVFVynEE+RaukiGARTm6iG1Xq8FwbB1A4QwSCY2kQ1rNbjvTAIpnaACAbB1CaqYbUe74VBMLUDRDAIpjZRDav1eC8MgqkdIIJBMLWJalyt9StJCKZ2gAgGwdQmqnE1BNMYcHF5a8Fk5lZJd1Yy4V+wSpr1tTJzj6Sn1Vf+X0XmX0vWXTCfk/TeSiQErJJmfa3M/LukQ+orI5gWTN0F82NJJxeC2RMRTd/IVdjrKEu1fqmaf2BqY+UumL9Iek4hknsj4rmF9ShVTKD1S9UIpnZg7oKpfuv4rRHxilrEVKsk0PqlagRTOS3JXTBZi0NXRMT5xTUpV0yg5StJCKZ2WAjm/3k+LyL+VIuYatUEEEw10Xb1bAWTmZdL2laJhn+9Kmm2q4Vg2rGtruwsmNslnVgJBMFU0mxXC8G0Y1td2VkwD0g6qBIIgqmk2a4WgmnHtrqys2AeHd54WQgkI6LZO0QL+xx9KQTjE4HKv6Bd77pByHZFxMFdb4LDZiLQYPaP9cEWO9NI9nkRgnkczc8j4iW1eKnWggCCaUG1TU0E8zjX7RFxcRvMVK0kgGAqabathWAmfFmN2watsjqCqaTZthaCQTBtE9agOoJpALVRSQQzUsFk5jMlvWrycRfDL5U/QtKBxa/MzRPb4cdAHpQ0/EDr9yV9XtLOiHgQwcyDte+1CGaBgsnM4aMhLpF0uqTjJj8Zvn/fCHDaEwnwVLk2Dwims2Ay86WSzpp8n9by09lqozKOagimds6WgsnM4RPNhk82K/uaJViZOXx2zLB57P0+VtIrJR0j6dDJ0w1LxmVgzQrNkgOzW+zarmX4M3O7pAsrSa0XrMz8oKR3SDpB0rMkHVB5JrWWjwCCqZ2Jq2BukVT6wVBPDFZmvk3SJyabSS1xqi01AQRTOx5XwQyvLjyjFoVulnTS5D9aLbkU8xhlOQRTO3bLv0gtX6asxUs1NwIIpnZiCKaWJ9XMCSCY2gEimFqeVDMngGBqB4hganlSzZwAgqkdIIKp5Uk1cwIIpnaACKaWJ9XMCSCY2gEimFqeVDMngGBqB4hganlSzZwAgqkdIIKp5Uk1cwIIpnaACKaWJ9XMCSCY2gEimFqeVDMngGBqB4hganlSzZwAgqkdIIKp5Uk1cwIIpnaAroKp/q2OtVS9qg0s/7XeZ98u4jYW/VnBCKZ26q6CuV/SYbUoFlpt+IDr6yV9W9L3IuK2hXZjcHhmXi5pW3WrCKaWqKtgbpD0mloUXas9PNkYfivpJkkfj4jdXTswPywzb5d0YvVtIJhaoq6CuVTSRbUoZq42bB/D04y/Sbpb0vBpe3+Q9Pu93xHx55mrc+G6BDLzAUkHFeN5NCK2FNccdTlLwQwTy8y/Sjp8AdP7o6SPRsTVCzibIycEMrPF/8PdExFHA7mOgLNghl8WtrMOxT4rDRvKLkk/k3RNRFzV4UyO2IBAo081vDEizgR+HQFbwUy2mCslnVeH47+V9kgatqNfSPphRCzLU7Hi2/Qu10gw2yPiYm8yy9W9tWAmkvmwpB0zYL1P0hcQyAzkluCSBoK5NyKG33PFVyEBe8FMJHO89N/fCjDN8+dhOzk3Iq4t5EipzgQaCOaMiBhe0eOrkMBKCGYvj8z8tKTXShp+w+LeX2uy95eo/0nSdRFxQSE/Si2IQLVgeHm6zSBXSjBtEFF1GQkgmGWcytqeEIzHnOjySQQQjEckEIzHnOgSwVhmAMFYjo2m2WA8MoBgPOZEl2wwlhlAMJZjo2k2GI8MIBiPOdElG4xlBhCM5dhomg3GIwMIxmNOdMkGY5kBBGM5Nppmg/HIAILxmBNdssFYZgDBWI6NptlgPDKAYDzmRJdsMJYZQDCWY6NpNhiPDCAYjznRJRuMZQYQjOXYaJoNxiMDCMZjTnTJBmOZAQRjOTaaZoPxyACC8ZgTXbLBWGYAwViOjabZYDwygGA85kSXbDCWGUAwlmOjaTYYjwwgGI850SUbjGUGEIzl2GiaDcYjAwjGY050yQZjmQEEYzk2mmaD8cgAgvGYE12ywVhmAMFYjo2m2WA8MoBgPOZEl2wwlhlAMJZjo2k2GI8MIBiPOdElG4xlBhCM5dhomg3GIwMIxmNOdMkGY5kBBGM5Nppmg/HIAILxmBNdssFYZgDBWI6NptlgPDKAYDzmRJdsMJYZQDCWY6NpNhiPDCAYjznRJRuMZQYQjOXYaJoNxiMDCMZjTnTJBmOZAQRjOTaaZoPxyACC8ZgTXbLBWGYAwViOjabZYDwygGA85kSXbDCWGUAwlmOjaTYYjwwgGI850SUbjGUGEIzl2GiaDcYjAwjGY050yQZjmQEEYzk2mmaD8cgAgvGYE12ywVhmAMFYjo2m2WA8MoBgPOZEl2wwlhlAMJZjo2k2GI8MIBiPOdElG4xlBhCM5dhomg3GIwMIxmNOdMkGY5kBBGM5Nppmg/HIAILxmBNdssFYZgDBWI6NptlgPDKAYDzmRJdsMJYZQDCWY6NpNhiPDCAYjznRJRuMZQYQjOXYaJoNxiMDCMZjTnTJBmOZAQRjOTaaZoPxyACC8ZgTXbLBWGYAwViOjabZYDwygGA85kSXbDCWGUAwlmOjaTYYjwwgGI850SUbjGUGEIzl2GiaDcYjAwjGY050yQZjmQEEYzk2mmaD8cgAgvGYE12ywVhmAMFYjo2m2WA8MoBgPOZEl2wwlhlAMJZjo2k2GI8MIBiPOdElG4xlBhCM5dhomg3GIwMIxmNOdLl2g9ktaUsRmD0RsV9RLco8gQCCIQ6WBDLzTklbi5q/KyKOKapFGQRDBtwJZObXJJ1ddB/XRMTbi2pRBsGQAXcCmflGSd8quo83RcS3i2pRBsGQgVUgkJk3STptznu5OSJOn7MGl++DAP8HQzRsCWTm8yXdNecNbI2Iu+esweUIhgysIoHMPEfSV2a8t3dFxNUzXstlUxBgg5kCEg9ZbgKZ+RpJN2yyyzMj4sZNXsPDN0kAwWwSGA9fTgKZeZikT0k6d4MOvyzpQxHxt+W8k9XqCsGs1jxHfzeZ+WZJJ0t62eR7YPLTyfdPIuKbo4fUEQCC6QiboyAwNgIIZmwT534h0JEAgukIm6MgMDYCCGZsE+d+IdCRAILpCJujIDA2AghmbBPnfiHQkQCC6QiboyAwNgIIZmwT534h0JEAgukIm6MgMDYCCGZsE+d+IdCRAILpCJujIDA2AghmbBPnfiHQkQCC6QiboyAwNgIIZmwT534h0JEAgukIm6MgMDYCCGZsE+d+IdCRAILpCJujIDA2AghmbBPnfiHQkQCC6QiboyAwNgIIZmwT534h0JEAgukIm6MgMDYCCGZsE+d+IdCRAILpCJujIDA2AghmbBPnfiHQkQCC6QiboyAwNgIIZmwT534h0JEAgukIm6MgMDYCCGZsE+d+IdCRAILpCJujIDA2AghmbBPnfiHQkQCC6QiboyAwNgIIZmwT534h0JEAgukIm6MgMDYCCGZsE+d+IdCRAILpCJujIDA2AghmbBPnfiHQkQCC6QiboyAwNgIIZmwT534h0JHAfwAZDJ1ktfXWGQAAAABJRU5ErkJggg=='\n",
    "\n",
    "\n",
    "# Process the saved image data\n",
    "# Remove the prefix 'data:image/png;base64,' before decoding\n",
    "image_data = base64.b64decode(image_data_url.split(',')[1])\n",
    "image = Image.open(io.BytesIO(image_data))\n",
    "image = image.resize((28, 28)).convert('L')\n",
    "image = np.invert(np.array(image))\n",
    "image = image / 255.0\n",
    "flattened_image = image.flatten().reshape(1, -1)\n",
    "\n",
    "# Load your models\n",
    "SVM_path = 'mnist_svm_by_Gabe.joblib'\n",
    "KNN_path = 'knn_mnist_by_gabe.joblib'\n",
    "SVM_model = joblib.load(SVM_path)\n",
    "KNN_model = joblib.load(KNN_path)\n",
    "\n",
    "# Predict using the models\n",
    "svm_prediction = SVM_model.predict(flattened_image)\n",
    "knn_prediction = KNN_model.predict(flattened_image)\n",
    "\n",
    "# Print the predictions\n",
    "print(f\"SVM Prediction: {svm_prediction[0]}\")\n",
    "print(f\"KNN Prediction: {knn_prediction[0]}\")"
   ]
  },
  {
   "cell_type": "code",
   "execution_count": null,
   "metadata": {},
   "outputs": [],
   "source": []
  },
  {
   "cell_type": "code",
   "execution_count": null,
   "metadata": {},
   "outputs": [],
   "source": []
  }
 ],
 "metadata": {
  "kernelspec": {
   "display_name": "base",
   "language": "python",
   "name": "python3"
  },
  "language_info": {
   "codemirror_mode": {
    "name": "ipython",
    "version": 3
   },
   "file_extension": ".py",
   "mimetype": "text/x-python",
   "name": "python",
   "nbconvert_exporter": "python",
   "pygments_lexer": "ipython3",
   "version": "3.11.4"
  }
 },
 "nbformat": 4,
 "nbformat_minor": 2
}
